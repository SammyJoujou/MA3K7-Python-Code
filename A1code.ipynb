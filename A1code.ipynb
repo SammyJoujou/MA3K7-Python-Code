{
 "cells": [
  {
   "cell_type": "code",
   "execution_count": 1,
   "id": "b85c983d-3b5f-47d1-bac5-ed9188c17910",
   "metadata": {
    "tags": []
   },
   "outputs": [],
   "source": [
    "import numpy as np               #Import normal libraries\n",
    "import matplotlib.pyplot as plt"
   ]
  },
  {
   "cell_type": "code",
   "execution_count": 6,
   "id": "a16c7494-0ef0-499d-a3ca-9a94c418ae57",
   "metadata": {
    "tags": []
   },
   "outputs": [
    {
     "name": "stdout",
     "output_type": "stream",
     "text": [
      "1 5 6 1 7 8 5 3 8 1 9 0 9 9 8 7 5 2 7 9 6 5 1 6 7 3 0 3 3 6 9 5 4 9 3 2 5 7 2 9 1 0 1 1 2 3 5 8 3 1 4 5 9 4 3 7 0 7 7 4 1 5 "
     ]
    }
   ],
   "source": [
    "def fibonacci(n): # Defines the function which initialises the sequence modulo 10\n",
    "    a = 1  \n",
    "    b = 5      #Input the starting two values of ordered pair\n",
    "    if n == 1: \n",
    "        print(a)   #Deals with the intial case of an n=1 chain  \n",
    "    elif n == 2: \n",
    "        print(a, b, end = ' ')   #Deals with printing the n=2 values \n",
    "    else: \n",
    "        print(a,b,end=' ')   #Prints for n>2 the list of previous numbers \n",
    "        for i in range(n-2):    # For loop to produce the Fibonacci relation involved in this bracelet\n",
    "            c = (a + b) %10      # The sum is done modulo 10\n",
    "            print(c, end =' ') \n",
    "            a = b  \n",
    "            b = c  # We then set the new numbers to shift 1 position up the chain and the process repeats\n",
    " \n",
    "fibonacci(62) # After trial and error I computed a chain of length 60 would reproduce the pair (5,6)"
   ]
  },
  {
   "cell_type": "code",
   "execution_count": 5,
   "id": "43832c22-00eb-4aaf-9ad0-e971d46a8c8f",
   "metadata": {
    "tags": []
   },
   "outputs": [
    {
     "name": "stdout",
     "output_type": "stream",
     "text": [
      "The bracelet formed from these starting numbers is: [1, 5, 6, 1, 7, 8, 5, 3, 8, 1, 9, 0, 9, 9, 8, 7, 5, 2, 7, 9, 6, 5, 1, 6, 7, 3, 0, 3, 3, 6, 9, 5, 4, 9, 3, 2, 5, 7, 2, 9, 1, 0, 1, 1, 2, 3, 5, 8, 3, 1, 4, 5, 9, 4, 3, 7, 0, 7, 7, 4, 1, 5]\n",
      "The length of this chain before the sequence repeats: 60\n"
     ]
    }
   ],
   "source": [
    "def fibonacci_mod(a, b): # Defines the function which initialises the sequence modulo 10\n",
    "    sequence = [a , b]    # This time I decided to define sequence as usual but create a dictionary\n",
    "    seen = {(a , b): 0}    # By doing this I can store the values of the sequence and measure the length\n",
    "\n",
    "    while True:                # Created a while loop to break the sequence where it repeats itself\n",
    "        next = (sequence[-2] + sequence[-1]) % 10   # I used slicing this time to avoid writing the if, else loop\n",
    "        sequence.append(next)  # Adds the next term onto end of the sequence\n",
    "\n",
    "        if (sequence[-2], sequence[-1]) in seen:  #if the ordred pair repeats we break the loop\n",
    "            break\n",
    "\n",
    "        seen[(sequence[-2], sequence[-1])] = len(sequence) - 1 # We then return index of where this was located \n",
    "\n",
    "    return sequence # Terminate the sequence\n",
    "\n",
    "\n",
    "a, b = 1, 5\n",
    "sequence = fibonacci_mod(a, b)  #Define the numbers for this example\n",
    "\n",
    "print(f\"The bracelet formed from these starting numbers is: {sequence}\")\n",
    "print(f\"The length of this chain before the sequence repeats: {len(sequence) - 2}\") # We minus 2 to discount the repeating ordered pair"
   ]
  },
  {
   "cell_type": "code",
   "execution_count": 4,
   "id": "72f4cb87-d766-4549-94f3-7b8453a1de94",
   "metadata": {
    "tags": []
   },
   "outputs": [
    {
     "name": "stdout",
     "output_type": "stream",
     "text": [
      "The bracelet formed from these starting numbers is: [1, 3, 4, 7, 1, 8, 9, 7, 6, 3, 9, 2, 1, 3]\n",
      "The length of this chain before the sequence repeats: 12\n"
     ]
    }
   ],
   "source": [
    "def fibonacci_mod(a, b): # Defines the function which initialises the sequence modulo 10\n",
    "    sequence = [a , b]    # This time I decided to define sequence as usual but create a dictionary\n",
    "    seen = {(a , b): 0}    # By doing this I can store the values of the sequence and measure the length\n",
    "\n",
    "    while True:                # Created a while loop to break the sequence where it repeats itself\n",
    "        next = (sequence[-2] + sequence[-1]) % 10   # I used slicing this time to avoid writing the if, else loop\n",
    "        sequence.append(next)  # Adds the next term onto end of the sequence\n",
    "\n",
    "        if (sequence[-2], sequence[-1]) in seen:  #if the ordred pair repeats we break the loop\n",
    "            break\n",
    "\n",
    "        seen[(sequence[-2], sequence[-1])] = len(sequence) - 1 # We then return index of where this was located \n",
    "\n",
    "    return sequence # Terminate the sequence\n",
    "\n",
    "\n",
    "a, b = 1, 3\n",
    "sequence = fibonacci_mod(a, b)  #Define the numbers for this example\n",
    "\n",
    "print(f\"The bracelet formed from these starting numbers is: {sequence}\")\n",
    "print(f\"The length of this chain before the sequence repeats: {len(sequence) - 2}\") # We minus 2 to discount the repeating ordered pair"
   ]
  },
  {
   "cell_type": "code",
   "execution_count": 7,
   "id": "0581377b-4f34-4298-a11d-30cc718f4b2c",
   "metadata": {
    "tags": []
   },
   "outputs": [
    {
     "name": "stdout",
     "output_type": "stream",
     "text": [
      "The bracelet formed from these starting numbers is: [2, 6, 8, 4, 2, 6]\n",
      "The length of this chain before the sequence repeats: 4\n"
     ]
    }
   ],
   "source": [
    "def fibonacci_mod(a, b): # Defines the function which initialises the sequence modulo 10\n",
    "    sequence = [a , b]    # This time I decided to define sequence as usual but create a dictionary\n",
    "    seen = {(a , b): 0}    # By doing this I can store the values of the sequence and measure the length\n",
    "\n",
    "    while True:                # Created a while loop to break the sequence where it repeats itself\n",
    "        next = (sequence[-2] + sequence[-1]) % 10   # I used slicing this time to avoid writing the if, else loop\n",
    "        sequence.append(next)  # Adds the next term onto end of the sequence\n",
    "\n",
    "        if (sequence[-2], sequence[-1]) in seen:  #if the ordred pair repeats we break the loop\n",
    "            break\n",
    "\n",
    "        seen[(sequence[-2], sequence[-1])] = len(sequence) - 1 # We then return index of where this was located \n",
    "\n",
    "    return sequence # Terminate the sequence\n",
    "\n",
    "\n",
    "a, b = 2, 6\n",
    "sequence = fibonacci_mod(a, b)  #Define the numbers for this example\n",
    "\n",
    "print(f\"The bracelet formed from these starting numbers is: {sequence}\")\n",
    "print(f\"The length of this chain before the sequence repeats: {len(sequence) - 2}\") # We minus 2 to discount the repeating ordered pair"
   ]
  },
  {
   "cell_type": "code",
   "execution_count": null,
   "id": "e54eb666-aaea-42b6-b709-b780549303be",
   "metadata": {},
   "outputs": [],
   "source": []
  }
 ],
 "metadata": {
  "kernelspec": {
   "display_name": "Python 3 (ipykernel)",
   "language": "python",
   "name": "python3"
  },
  "language_info": {
   "codemirror_mode": {
    "name": "ipython",
    "version": 3
   },
   "file_extension": ".py",
   "mimetype": "text/x-python",
   "name": "python",
   "nbconvert_exporter": "python",
   "pygments_lexer": "ipython3",
   "version": "3.11.5"
  }
 },
 "nbformat": 4,
 "nbformat_minor": 5
}
