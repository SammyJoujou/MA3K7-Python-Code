{
 "cells": [
  {
   "cell_type": "code",
   "execution_count": 1,
   "id": "ea28d3ba-aed5-4c27-b49e-578fa13e1d31",
   "metadata": {
    "tags": []
   },
   "outputs": [],
   "source": [
    "import numpy as np\n",
    "import matplotlib.pyplot as plt\n",
    "from itertools import permutations"
   ]
  },
  {
   "cell_type": "code",
   "execution_count": null,
   "id": "4b575d4d-4d3a-43fe-84f1-f39a30319a67",
   "metadata": {
    "tags": []
   },
   "outputs": [],
   "source": [
    "def matrix_game(size):\n",
    "    matrix = np.full((size,size), '#', dtype=str) \n",
    "    #Creates an n x n matrix full of '#' so the entries can be inputted\n",
    "\n",
    "    # Display the initial matrix with '#'\n",
    "    print(\"\\nCurrent Matrix:\")\n",
    "    display(matrix)\n",
    "\n",
    "    # Alternate turns between the player and the computer\n",
    "    for turn in range(size**2): # Sets up for loop for each turn and total number is n^2\n",
    "        if turn % 2 == 0:   # I used modulo 2 to keep consitent with the 0 and 1 entries\n",
    "            player = '0'  # I play and fill with \"0\"\n",
    "            print(\"\\nMy turn:\")\n",
    "            while True:\n",
    "                    row = int(input(f\"Enter row (0 to {size-1}): \"))   # Allows for entry of row number\n",
    "                    col = int(input(f\"Enter column (0 to {size-1}): \")) # Allows for entry of column number\n",
    "                    if matrix[row, col] == '#':\n",
    "                        break                       # Here we get the while loop to break when a # is replaced by a 0\n",
    "                    else:\n",
    "                        print(\"Cell is already filled. Try again.\")  #If we have a cell that is already filled then it'll repeat the question\n",
    "        else:\n",
    "            player = '1'  # Computer plays and fills with \"1\"\n",
    "            empty = [(i, j) for i in range(size) for j in range(size) if matrix[i, j] == '#']  \n",
    "            if empty: # Defines the empty cells as the ones with # in the current matrix\n",
    "                row, col = np.random.default_rng().choice(empty)  #Using a randomiser computer picks the row and column\n",
    "            else:\n",
    "                print(\"No empty cells left\") # This signals the end of the game \n",
    "                continue\n",
    "            print(\"\\nComputer's turn:\")\n",
    "            print(f\"Computer played at row {row}, column {col}\") # Outputs the position the computer played at \n",
    "\n",
    "        matrix[row, col] = player  # Updates the matrix entries\n",
    "        print(\"\\nCurrent Matrix:\")   #Prints the current matrix \n",
    "        display(matrix)\n",
    "\n",
    "    return matrix\n",
    "\n",
    "def winner(matrix): # Now we define the winner of this game\n",
    "    determinant = np.linalg.det([[int(cell) if cell != '#' else 0 for cell in row] for row in matrix]) \n",
    "    if determinant == 0: # The determinant is calculated by taking the integer value off each entry iterated over every row in the matrix\n",
    "        return \"I win! The determinant is zero.\"\n",
    "    else: # Then output the two different options i.e. if determinant is anything but zero computer wins.\n",
    "        return \"Computer wins! The determinant is non-zero.\"\n",
    "\n",
    "def display(matrix):  # Display the matrix at each stage\n",
    "    for i in range(matrix.shape[0]):  # This prints a matrix with the correct number of rows\n",
    "        for j in range(matrix.shape[1]): # This prints a matrix with the correct number of columns\n",
    "            print(matrix[i, j], end=' ')\n",
    "        print()\n",
    "\n",
    "size = int(input(\"Enter the size, n  of the n x n matrix : \")) # Get user to input matrix size\n",
    "final = matrix_game(size) #Obtain the final matrix to put into winner function and define a message\n",
    "message = winner(final)\n",
    "\n",
    "# Print the final matrix and the winner message\n",
    "print(\"\\nFinal Matrix:\")\n",
    "display(final)\n",
    "print(message)"
   ]
  },
  {
   "cell_type": "code",
   "execution_count": 6,
   "id": "b68c4457-58b5-4a8a-9507-0faf2aea339f",
   "metadata": {
    "tags": []
   },
   "outputs": [
    {
     "name": "stdin",
     "output_type": "stream",
     "text": [
      "Enter the number of zeros in the matrix (0 to 9):  4\n"
     ]
    },
    {
     "name": "stdout",
     "output_type": "stream",
     "text": [
      "Total possibilities: 126\n",
      "Number of determinants equal to zero: 54\n"
     ]
    },
    {
     "data": {
      "image/png": "[encoded data removed]",
      "text/plain": [
       "<Figure size 640x480 with 1 Axes>"
      ]
     },
     "metadata": {},
     "output_type": "display_data"
    }
   ],
   "source": [
    "def number(zeros):   #Define the function with 3 variables similar to Week 3 Lab\n",
    "    matrices = []\n",
    "    possibilities = 0\n",
    "    zero_determinants = 0\n",
    "\n",
    "    for perm in set(permutations([0]*zeros + [1]*(9-zeros))): # One skill I learnt during a python course I did before this module to refresh my memory\n",
    "        matrix = np.array(perm).reshape((3, 3))   # I used itertools to create a permutation to loop through all possibilities for 0's and 1's\n",
    "        determinant = np.linalg.det(matrix)  # The permutation essentially writes 9 numbers in a row and reshapes into a matrix and determinant is calculated\n",
    "        \n",
    "        possibilities += 1\n",
    "        if determinant == 0:  # Adds zero determinants to the count and 1 to the possibilities\n",
    "            zero_determinants += 1\n",
    "\n",
    "        matrices.append(matrix) # Appends the matrix to the list so we don't repeat it\n",
    "\n",
    "    return matrices, possibilities, zero_determinants\n",
    "\n",
    "def plot_histogram(determinants): #Plots all determinants on a histogram\n",
    "    plt.hist(determinants, bins=50, alpha=1, color='orange', edgecolor='black')\n",
    "    plt.title('Determinants of 3x3 Matrices')\n",
    "    plt.xlabel('Determinant')\n",
    "    plt.ylabel('Frequency')\n",
    "    plt.grid(True)\n",
    "    plt.show()\n",
    "\n",
    "\n",
    "zeros = int(input(\"Enter the number of zeros in the matrix (0 to 9): \"))\n",
    "matrices, total, zero_determinants = number(zeros)  # Allows inital input of zeroes and ones so I can change it to 4 or 5 depedning on who starts\n",
    "\n",
    "print(f'Total possibilities: {total}') # Total possibilities are presented and of these how many are 0 determinant\n",
    "print(f'Number of determinants equal to zero: {zero_determinants}')\n",
    "\n",
    "determinants = [np.linalg.det(matrix) for matrix in matrices]\n",
    "plot_histogram(determinants) # Defined in the function"
   ]
  },
  {
   "cell_type": "code",
   "execution_count": null,
   "id": "afd90d2c-1b97-485c-8bd3-2b7891a90495",
   "metadata": {},
   "outputs": [],
   "source": []
  }
 ],
 "metadata": {
  "kernelspec": {
   "display_name": "Python 3 (ipykernel)",
   "language": "python",
   "name": "python3"
  },
  "language_info": {
   "codemirror_mode": {
    "name": "ipython",
    "version": 3
   },
   "file_extension": ".py",
   "mimetype": "text/x-python",
   "name": "python",
   "nbconvert_exporter": "python",
   "pygments_lexer": "ipython3",
   "version": "3.11.5"
  }
 },
 "nbformat": 4,
 "nbformat_minor": 5
}
