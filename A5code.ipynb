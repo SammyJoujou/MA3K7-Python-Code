{
 "cells": [
  {
   "cell_type": "code",
   "execution_count": null,
   "id": "e588eb69-fd5a-4e7a-9927-f19d7b08be1f",
   "metadata": {
    "tags": []
   },
   "outputs": [
    {
     "name": "stdin",
     "output_type": "stream",
     "text": [
      "Enter the size of the grid (n x n):  2\n"
     ]
    },
    {
     "name": "stdout",
     "output_type": "stream",
     "text": [
      "- | -\n",
      "-------\n",
      "- | -\n"
     ]
    },
    {
     "name": "stdin",
     "output_type": "stream",
     "text": [
      "Enter the starting row (0-index):  0\n",
      "Enter the starting column (0-index):  1\n"
     ]
    },
    {
     "name": "stdout",
     "output_type": "stream",
     "text": [
      "Starting point set.\n",
      "- | 1\n",
      "-------\n",
      "- | -\n",
      "Current position: (0, 1)\n"
     ]
    },
    {
     "name": "stdin",
     "output_type": "stream",
     "text": [
      "Enter the row for the next move:  1\n",
      "Enter the column for the next move:  1\n"
     ]
    },
    {
     "name": "stdout",
     "output_type": "stream",
     "text": [
      "- | 1\n",
      "-------\n",
      "- | 2\n",
      "Current position: (1, 1)\n"
     ]
    },
    {
     "name": "stdin",
     "output_type": "stream",
     "text": [
      "Enter the row for the next move:  1\n",
      "Enter the column for the next move:  0\n"
     ]
    },
    {
     "name": "stdout",
     "output_type": "stream",
     "text": [
      "- | 1\n",
      "-------\n",
      "3 | 2\n",
      "Current position: (1, 0)\n"
     ]
    },
    {
     "name": "stdin",
     "output_type": "stream",
     "text": [
      "Enter the row for the next move:  0\n",
      "Enter the column for the next move:  0\n"
     ]
    },
    {
     "name": "stdout",
     "output_type": "stream",
     "text": [
      "4 | 1\n",
      "-------\n",
      "3 | 2\n",
      "Current position: (0, 0)\n"
     ]
    }
   ],
   "source": [
    "import numpy as np\n",
    "import matplotlib.pyplot as plt   #Import usual libraries \n",
    "\n",
    "def creategrid(size):  #Creates the grid with '-' in places where the cell hasn't been entered\n",
    "    return [['-' for _ in range(size)] for _ in range(size)]  #Based on grid size entered this will allow us to create the size\n",
    "\n",
    "def printgrid(grid): #Prints the grid lines to divide cells. I added this after as it got a bit confusing which was which cell\n",
    "    size = len(grid)\n",
    "    for i in range(size): # We need 1 less line for each n game size hence why we use size - 1 \n",
    "        print(\" | \".join(grid[i])) # Solid lines for columns and dashed lines for rows\n",
    "        if i < size - 1:\n",
    "            print(\"-\" * (4 * size - 1))\n",
    "\n",
    "def validmove(grid, row, col): # We define another function that checks the validity of a move \n",
    "    size = len(grid)\n",
    "    if row < 0 or row >= size or col < 0 or col >= size: # We can't have an entry greater than a row or column or if it is not adjacent which we describe in next function\n",
    "        return False\n",
    "    return grid[row][col] == '-' # Keeps the cell empty so we have not changed it again\n",
    "\n",
    "def adjacent(prevrow, prevcol, row, col): # Defines 4 variables and basically ensures that either the row or column has changed by only 1 cell and no more\n",
    "    return (abs(prevrow - row) == 1 and prevcol == col) or (abs(prevcol - col) == 1 and prevrow == row)\n",
    "\n",
    "def main():  #Now we define the main game so the user can play it\n",
    "    n = int(input(\"Enter the size of the grid (n x n): \")) # Input the size of the gridwhich sets up all the other functions\n",
    "    grid = creategrid(n)  #Prints our grid and at all stages we update this so we can see what cells are filled\n",
    "    printgrid(grid)\n",
    "\n",
    "    startrow = int(input(\"Enter the starting row (0-index): \")) #Inputs the starting row and column for the game\n",
    "    startcol = int(input(\"Enter the starting column (0-index): \"))\n",
    "    grid[startrow][startcol] = '1' # Places a 1 in this position\n",
    "    print(\"Starting point set.\")\n",
    "    printgrid(grid)  # Grid is updated and printed out\n",
    "\n",
    "    moves = [(0, 1), (0, -1), (1, 0), (-1, 0)] # Defines the 4 moves that can occur in the game\n",
    "    currentrow, currentcol = startrow, startcol # Takes the current row and column to be the end point of the last move\n",
    "    movecount = 2\n",
    "    while True:\n",
    "        print(\"Current position: ({}, {})\".format(currentrow, currentcol)) # Our current position is updated constantly after each go and I have used .format to insert this\n",
    "        row = int(input(\"Enter the row for the next move: \"))\n",
    "        col = int(input(\"Enter the column for the next move: \"))  # Enter row and columnn by user which works with valid move function\n",
    "\n",
    "        if validmove(grid, row, col) and adjacent(currentrow, currentcol, row, col):\n",
    "            grid[row][col] = str(movecount) #In order to print the next number in a cell we use the move counter to track this provided both of the other conditions are satisfied\n",
    "            movecount += 1\n",
    "            currentrow, currentcol = row, col #Update the previous row and column and then print out the new grid\n",
    "            printgrid(grid)\n",
    "        else:\n",
    "            print(\"Invalid move! Try again.\") # If this does not occur we say this is an invalid move\n",
    "main() # Play the game!!"
   ]
  },
  {
   "cell_type": "code",
   "execution_count": 1,
   "id": "0ee66c9a-e394-4358-b28a-1b3f4e469324",
   "metadata": {
    "tags": []
   },
   "outputs": [
    {
     "name": "stdin",
     "output_type": "stream",
     "text": [
      "Enter the size of the grid (n x n):  3\n"
     ]
    },
    {
     "name": "stdout",
     "output_type": "stream",
     "text": [
      "Total number of paths: 40\n",
      "Number of solutions for each cell:\n",
      "[8, 0, 8]\n",
      "[0, 8, 0]\n",
      "[8, 0, 8]\n"
     ]
    },
    {
     "data": {
      "image/png": "[encoded data removed]",
      "text/plain": [
       "<Figure size 800x600 with 2 Axes>"
      ]
     },
     "metadata": {},
     "output_type": "display_data"
    }
   ],
   "source": [
    "#First Test of doing Heat Maps with the answers\n",
    "import numpy as np  #Import the usual libraries\n",
    "import matplotlib.pyplot as plt  \n",
    "\n",
    "def validmove(board, row, col, nrows, ncols, visited): #Very similar to above in regards of checking validity of moves\n",
    "    return (row >= 0 and row < nrows and #We've added extra variable of we can't visit the same cell twice and the path can't overlap\n",
    "            col >= 0 and col < ncols and\n",
    "            not visited[row][col] and board[row][col] == 0)\n",
    "\n",
    "\n",
    "def allpaths(board, row, col, nrows, ncols, visited): # If all cells are visited, we found a valid path and we can return a count of 1\n",
    "    if all(all(cell for cell in row) for row in visited): # I had never used an all function before so this took a while to experiment with\n",
    "        return 1  \n",
    "    \n",
    "    count = 0 # Starting count is at zero\n",
    "\n",
    "    directions = [(0, 1), (0, -1), (1, 0), (-1, 0)] # Same directions as before that can be applied to each cell/\n",
    "    for r, c in directions:\n",
    "        currentrow, currentcol = row + r, col + c # We go through every single possibility at each cell and provided the valid move criteria is satsified this categorises as a move\n",
    "        if validmove(board, currentrow, currentcol, nrows, ncols, visited): #Once every cell is visited we then can add on one to the total paths and try another\n",
    "            visited[currentrow][currentcol] = True\n",
    "            count += allpaths(board, currentrow, currentcol, nrows, ncols, visited) #If this does not occur, the computer backtracks itself to a new go to see if this works\n",
    "            visited[currentrow][currentcol] = False  \n",
    "\n",
    "    return count # The count is resturned so that later on we can make a total count of paths and individual count for each cell\n",
    "\n",
    "\n",
    "def countpaths(board): # This function defines the actual count of paths and defines all the variables needed for the other functions\n",
    "    nrows = len(board) #These are based off user input of n see below\n",
    "    ncols = len(board[0])\n",
    "    totalpaths = 0\n",
    "    solutions = [[0] * ncols for _ in range(nrows)] # Keeps all solutions stored once we run through the for loop below\n",
    "\n",
    "    for i in range(nrows): # Iterates through all the rows first\n",
    "        for j in range(ncols): #Then iterates through all columns to get all possible starting positions\n",
    "            if board[i][j] == 0:  # Start exploring from empty cells only\n",
    "                visited = [[False] * ncols for _ in range(nrows)] # Checks whether a cell has been visited already to start with and then runs the function above to search for paths\n",
    "                visited[i][j] = True\n",
    "                cellpaths = allpaths(board, i, j, nrows, ncols, visited) # Records all cell paths for the individual square and then in matrix notation stores this.\n",
    "                totalpaths += cellpaths #Keeps a total count of all cells\n",
    "                solutions[i][j] = cellpaths\n",
    "\n",
    "    return totalpaths, solutions # Return both the solutions and total paths\n",
    "\n",
    "\n",
    "def heatmap(solutions): # I decided to create a heatmap to show all the solutions laid out and see if a pattern emerges\n",
    "    solutionsforheatmap = np.array(solutions) #Stoes solutions as an array for use in the label of heatmap\n",
    "    plt.figure(figsize=(8, 6))\n",
    "    plt.imshow(solutionsforheatmap, cmap='inferno', interpolation='nearest')\n",
    "    plt.colorbar(label='Number of solutions')\n",
    "    plt.title('Heatmap of Solutions ') #Usual graph plotting labels and titles and colour scheme for heatmap\n",
    "    plt.xlabel('Column')\n",
    "    plt.ylabel('Row')\n",
    "    plt.grid(False)\n",
    "    plt.show()\n",
    "\n",
    "\n",
    "def main(): #As before we now define the main game but this time there is less for the user to actually input\n",
    "    n = int(input(\"Enter the size of the grid (n x n): \")) #User asked for size of game\n",
    "    board = [[0] * n for _ in range(n)] # Creates a board this size for the game and is final variable for all the early functions\n",
    "    \n",
    "    totalpaths, solutions = countpaths(board) \n",
    "\n",
    "    print(\"Total number of paths:\", totalpaths) #Print the total number of paths and soltions\n",
    "    print(\"Number of solutions for each cell:\")\n",
    "    for row in solutions:\n",
    "        print(row) #Prints in matrix format the solutions and then plots heat map\n",
    "\n",
    "    heatmap(solutions)\n",
    "\n",
    "    main() #Play the game!!!"
   ]
  },
  {
   "cell_type": "code",
   "execution_count": 2,
   "id": "d6cea639-d5c7-4046-a4d4-5d5b0466cc58",
   "metadata": {
    "tags": []
   },
   "outputs": [
    {
     "data": {
      "image/png": "[encoded data removed]",
      "text/plain": [
       "<Figure size 1500x500 with 3 Axes>"
      ]
     },
     "metadata": {},
     "output_type": "display_data"
    }
   ],
   "source": [
    "#Same code as above but I played around with plotting and varying different parameters \n",
    "import numpy as np  #Import the usual libraries\n",
    "import matplotlib.pyplot as plt  \n",
    "\n",
    "def validmove(board, row, col, nrows, ncols, visited): #Very similar to above in regards of checking validity of moves\n",
    "    return (row >= 0 and row < nrows and #We've added extra variable of we can't visit the same cell twice and the path can't overlap\n",
    "            col >= 0 and col < ncols and\n",
    "            not visited[row][col] and board[row][col] == 0)\n",
    "\n",
    "\n",
    "def allpaths(board, row, col, nrows, ncols, visited): # If all cells are visited, we found a valid path and we can return a count of 1\n",
    "    if all(all(cell for cell in row) for row in visited): # I had never used an all function before so this took a while to experiment with\n",
    "        return 1  \n",
    "    \n",
    "    count = 0 # Starting count is at zero\n",
    "\n",
    "    directions = [(0, 1), (0, -1), (1, 0), (-1, 0)] # Same directions as before that can be applied to each cell/\n",
    "    for r, c in directions:\n",
    "        currentrow, currentcol = row + r, col + c # We go through every single possibility at each cell and provided the valid move criteria is satsified this categorises as a move\n",
    "        if validmove(board, currentrow, currentcol, nrows, ncols, visited): #Once every cell is visited we then can add on one to the total paths and try another\n",
    "            visited[currentrow][currentcol] = True\n",
    "            count += allpaths(board, currentrow, currentcol, nrows, ncols, visited) #If this does not occur, the computer backtracks itself to a new go to see if this works\n",
    "            visited[currentrow][currentcol] = False  \n",
    "\n",
    "    return count # The count is resturned so that later on we can make a total count of paths and individual count for each cell\n",
    "\n",
    "\n",
    "def countpaths(board): # This function defines the actual count of paths and defines all the variables needed for the other functions\n",
    "    nrows = len(board) #These are based off user input of n see below\n",
    "    ncols = len(board[0])\n",
    "    totalpaths = 0\n",
    "    solutions = [[0] * ncols for _ in range(nrows)] # Keeps all solutions stored once we run through the for loop below\n",
    "\n",
    "    for i in range(nrows): # Iterates through all the rows first\n",
    "        for j in range(ncols): #Then iterates through all columns to get all possible starting positions\n",
    "            if board[i][j] == 0:  # Start exploring from empty cells only\n",
    "                visited = [[False] * ncols for _ in range(nrows)] # Checks whether a cell has been visited already to start with and then runs the function above to search for paths\n",
    "                visited[i][j] = True\n",
    "                cellpaths = allpaths(board, i, j, nrows, ncols, visited) # Records all cell paths for the individual square and then in matrix notation stores this.\n",
    "                totalpaths += cellpaths #Keeps a total count of all cells\n",
    "                solutions[i][j] = cellpaths\n",
    "\n",
    "    return totalpaths, solutions # Return both the solutions and total paths\n",
    "\n",
    "\n",
    "def heatmap(ax, solutions, title):\n",
    "    solutionsforheatmap = np.array(solutions) #Identical to before but we're setting up the labelling and converting solutions to an array\n",
    "    ax.imshow(solutionsforheatmap, cmap='inferno', interpolation='nearest')\n",
    "    ax.set_title(title)\n",
    "    ax.set_xlabel('Column')\n",
    "    ax.set_ylabel('Row')\n",
    "    ax.grid(False)\n",
    "\n",
    "\n",
    "def main():\n",
    "    fig, axs = plt.subplots(1, 3, figsize=(15, 5)) #Sets up a subplot with 3 graphs next to each other\n",
    "    \n",
    "    n = 3\n",
    "    board = [[0] * n for _ in range(n)]       # 3x3 grid plot\n",
    "    totalpaths, solutions = countpaths(board)\n",
    "    heatmap(axs[0], solutions, '3x3 Grid')  \n",
    "\n",
    "    n = 4\n",
    "    board = [[0] * n for _ in range(n)]       # 4x4 grid plot\n",
    "    totalpaths, solutions = countpaths(board)\n",
    "    heatmap(axs[1], solutions, '4x4 Grid')\n",
    "\n",
    "    n = 5\n",
    "    board = [[0] * n for _ in range(n)]        # 5x5 grid plot\n",
    "    totalpaths, solutions = countpaths(board)\n",
    "    heatmap(axs[2], solutions, '5x5 Grid')\n",
    "\n",
    "    plt.tight_layout() #Plots them all together\n",
    "    plt.show()\n",
    "\n",
    "    main() #Play the game!!!"
   ]
  },
  {
   "cell_type": "code",
   "execution_count": null,
   "id": "6de0535f-b33e-420b-ae18-3429324d8f13",
   "metadata": {},
   "outputs": [],
   "source": []
  }
 ],
 "metadata": {
  "kernelspec": {
   "display_name": "Python 3 (ipykernel)",
   "language": "python",
   "name": "python3"
  },
  "language_info": {
   "codemirror_mode": {
    "name": "ipython",
    "version": 3
   },
   "file_extension": ".py",
   "mimetype": "text/x-python",
   "name": "python",
   "nbconvert_exporter": "python",
   "pygments_lexer": "ipython3",
   "version": "3.11.5"
  }
 },
 "nbformat": 4,
 "nbformat_minor": 5
}
